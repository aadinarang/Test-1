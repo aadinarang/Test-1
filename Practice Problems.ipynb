{
 "cells": [
  {
   "cell_type": "code",
   "execution_count": null,
   "id": "2574f225",
   "metadata": {},
   "outputs": [],
   "source": [
    "#Practice"
   ]
  },
  {
   "cell_type": "markdown",
   "id": "bdaa7acf",
   "metadata": {},
   "source": [
    "Write a python program that will calculate the sum of every third integer, beginning with 𝑖 =\n",
    "2 (i.e., calculate the sum of 2 + 5 + 8 + 11 + ⋯ ) for all values of 𝑖 that are less than\n",
    "100. You may use either while or for statement."
   ]
  },
  {
   "cell_type": "code",
   "execution_count": 11,
   "id": "d82ab2de",
   "metadata": {},
   "outputs": [
    {
     "name": "stdout",
     "output_type": "stream",
     "text": [
      "sum= 1650\n"
     ]
    }
   ],
   "source": [
    "j = 0\n",
    "for i in range (2, 101, 3):\n",
    "    j = i + j\n",
    "print(\"sum=\" , j)"
   ]
  },
  {
   "cell_type": "code",
   "execution_count": null,
   "id": "1cc358ba",
   "metadata": {},
   "outputs": [],
   "source": [
    "j = 0\n",
    "while i<100:\n",
    "    j = j + i\n",
    "    i = i + 3\n",
    "print(j)"
   ]
  },
  {
   "cell_type": "code",
   "execution_count": 20,
   "id": "fed31649",
   "metadata": {},
   "outputs": [
    {
     "name": "stdout",
     "output_type": "stream",
     "text": [
      "Enter a divisor: 32\n",
      "Enter a dividend: 8\n",
      "Quotient =  3 Remainder =  8\n"
     ]
    }
   ],
   "source": [
    "x = int(input(\"Enter a divisor: \"))\n",
    "y = int(input(\"Enter a dividend: \"))\n",
    "q = 0\n",
    "while x>y:\n",
    "    x = x - y\n",
    "    q = q + 1\n",
    "print(\"Quotient = \", q, \"Remainder = \", x)"
   ]
  },
  {
   "cell_type": "code",
   "execution_count": 32,
   "id": "69ce6575",
   "metadata": {},
   "outputs": [
    {
     "name": "stdout",
     "output_type": "stream",
     "text": [
      "Enter first number: 24\n",
      "Enter second number: 36\n"
     ]
    }
   ],
   "source": [
    "x = int(input(\"Enter first number: \"))\n",
    "y = int(input(\"Enter second number: \"))\n",
    "i = 0\n",
    "i = 0\n",
    "while i==j:\n",
    "    for i in range (2,x):\n",
    "        if x%i==0:\n",
    "            print(i)\n",
    "    for j in range (2,y):\n",
    "        if y%j==0:\n",
    "            print(j)"
   ]
  },
  {
   "cell_type": "code",
   "execution_count": 37,
   "id": "6fde1e53",
   "metadata": {},
   "outputs": [
    {
     "data": {
      "text/plain": [
       "'a'"
      ]
     },
     "execution_count": 37,
     "metadata": {},
     "output_type": "execute_result"
    }
   ],
   "source": [
    "list1 = [1,2,3,[4,5,6,[7,8,9,'a']]]\n",
    "list1[3][3][3]"
   ]
  },
  {
   "cell_type": "code",
   "execution_count": 38,
   "id": "3a89d16e",
   "metadata": {},
   "outputs": [
    {
     "name": "stdout",
     "output_type": "stream",
     "text": [
      "1\n",
      "2\n",
      "3\n",
      "[4, 5, 6, [7, 8, 9, 'a']]\n"
     ]
    }
   ],
   "source": [
    "for i in list1:\n",
    "    print(i)"
   ]
  },
  {
   "cell_type": "code",
   "execution_count": 39,
   "id": "430675e7",
   "metadata": {},
   "outputs": [
    {
     "name": "stdout",
     "output_type": "stream",
     "text": [
      "[1, 2, 3, 100]\n"
     ]
    }
   ],
   "source": [
    "list2=[1,2,3,4]\n",
    "list2[3]= 100\n",
    "print(list2)"
   ]
  },
  {
   "cell_type": "code",
   "execution_count": 40,
   "id": "b0327565",
   "metadata": {},
   "outputs": [
    {
     "name": "stdout",
     "output_type": "stream",
     "text": [
      "[91, 7, 343, 901, 49]\n"
     ]
    }
   ],
   "source": [
    "list3 = [232,52,948,91,7,932,343,901,49]\n",
    "odd = [i for i in list3 if i%2!=0]\n",
    "print(odd)"
   ]
  },
  {
   "cell_type": "markdown",
   "id": "ecb183c3",
   "metadata": {},
   "source": [
    "Ask user to enter a string and check the number of characters in that string without considereing white spaces using for loop."
   ]
  },
  {
   "cell_type": "code",
   "execution_count": null,
   "id": "9307db51",
   "metadata": {},
   "outputs": [],
   "source": [
    "s=input(\"Enter a string: \")\n",
    "count= 0\n",
    "for i in s:\n",
    "    if i in \" \":\n",
    "        continue\n",
    "    count=count+1\n",
    "print(count)"
   ]
  },
  {
   "cell_type": "code",
   "execution_count": null,
   "id": "ee8b6f0a",
   "metadata": {},
   "outputs": [],
   "source": [
    "total = 0\n",
    "\n",
    "for i in range(2, 101, 9):\n",
    "    total += i\n",
    "\n",
    "print(\"The sum of all the 2nd numbers from 2 to 100:\", total)"
   ]
  },
  {
   "cell_type": "markdown",
   "id": "bfb0a6c6",
   "metadata": {},
   "source": [
    "Given an integer, , perform the following conditional actions:\n",
    "\n",
    "If  is odd, print Weird\n",
    "If  is even and in the inclusive range of 2 to 5, print Not Weird\n",
    "If  is even and in the inclusive range of 6 to 20, print Weird\n",
    "If  is even and greater than 20, print Not Weird"
   ]
  },
  {
   "cell_type": "code",
   "execution_count": null,
   "id": "97a4d1db",
   "metadata": {},
   "outputs": [],
   "source": [
    "if __name__ == '__main__':\n",
    "    n = int(input().strip())\n",
    "    if 1<=n<=100:\n",
    "        if n%2!=0:\n",
    "            print(\"Weird\")\n",
    "        elif n%2==0 and 2<=n<=5:\n",
    "            print(\"Not Weird\")\n",
    "        elif n%2==0 and 6<=n<=20:\n",
    "            print(\"Weird\")\n",
    "        elif n%2==0 and n>20:\n",
    "            print(\"Not Weird\")\n",
    "    else:\n",
    "        print(\"Invalid input\")"
   ]
  },
  {
   "cell_type": "markdown",
   "id": "b549b717",
   "metadata": {},
   "source": [
    "There are two functions, a=5 b=3. Swap these two variables so that a becomes 3 and b becomes 5"
   ]
  },
  {
   "cell_type": "code",
   "execution_count": null,
   "id": "53fc1a31",
   "metadata": {},
   "outputs": [],
   "source": [
    "a = 5 \n",
    "b = 3\n",
    "c = a\n",
    "a = b\n",
    "b = c\n",
    "print (a, b)"
   ]
  },
  {
   "cell_type": "code",
   "execution_count": null,
   "id": "c7014872",
   "metadata": {},
   "outputs": [],
   "source": [
    "a = 5\n",
    "b = 3\n",
    "a ,b = b, a\n",
    "a,b"
   ]
  },
  {
   "cell_type": "code",
   "execution_count": null,
   "id": "03ae61d2",
   "metadata": {},
   "outputs": [],
   "source": [
    "a=5\n",
    "b=3\n",
    "a=a+b\n",
    "b=a-b\n",
    "a=a-b\n",
    "print(a,b)"
   ]
  },
  {
   "cell_type": "code",
   "execution_count": null,
   "id": "78eb008d",
   "metadata": {},
   "outputs": [],
   "source": [
    "a = 5\n",
    "b = 3\n",
    "a = a ^ b\n",
    "b = a ^ b\n",
    "a = a ^ b\n",
    "print (a,b)"
   ]
  },
  {
   "cell_type": "markdown",
   "id": "2c6d4ea2",
   "metadata": {},
   "source": [
    "Convert hello to cello"
   ]
  },
  {
   "cell_type": "code",
   "execution_count": null,
   "id": "f56fe1a2",
   "metadata": {},
   "outputs": [],
   "source": [
    "s = \"Hello\"\n",
    "s = \"C\" + s[1:]\n",
    "s\n"
   ]
  },
  {
   "cell_type": "markdown",
   "id": "e9545ed7",
   "metadata": {},
   "source": [
    "Read age and print age in decades and years\n",
    "input : age = 57\n",
    "output : decades = 5\n",
    "    years = 7"
   ]
  },
  {
   "cell_type": "code",
   "execution_count": null,
   "id": "ef3f54ab",
   "metadata": {},
   "outputs": [],
   "source": [
    "a = int(input(\"ENTER YOUR AGE: \"))\n",
    "d = a//10\n",
    "y = a%10\n",
    "print (\"Your age is\",d, \"decades and \", y,\"years.\")"
   ]
  },
  {
   "cell_type": "markdown",
   "id": "4227d4ed",
   "metadata": {},
   "source": [
    "Given a string s= \"intro to python programming\" - remove all spaces from the string"
   ]
  },
  {
   "cell_type": "code",
   "execution_count": null,
   "id": "64bc9179",
   "metadata": {},
   "outputs": [],
   "source": [
    "s=\"Introduction to Python Programming\"\n",
    "temp=\"\"\n",
    "for i in s:\n",
    "    if i==\"o\" :\n",
    "        temp = temp + i\n",
    "print(temp)"
   ]
  },
  {
   "cell_type": "markdown",
   "id": "bf3381ba",
   "metadata": {},
   "source": [
    "Ask user to input a string. check if two strings are palindromes. if not, ignore"
   ]
  },
  {
   "cell_type": "code",
   "execution_count": null,
   "id": "a1c53427",
   "metadata": {},
   "outputs": [],
   "source": [
    "s = input(\"Enter a word: \")\n",
    "s = s.lower()\n",
    "if s == s[::-1]:\n",
    "     print (\"Word is a palindrome\")\n",
    "else:\n",
    "        print(\"Not a palindrome\")"
   ]
  },
  {
   "cell_type": "markdown",
   "id": "8039baaf",
   "metadata": {},
   "source": [
    "print  this:\n",
    "\n",
    "*\n",
    "* *\n",
    "* * *\n",
    "* * * *\n",
    "\n",
    ".\n",
    "\n",
    "after taking input"
   ]
  },
  {
   "cell_type": "code",
   "execution_count": null,
   "id": "57659dda",
   "metadata": {},
   "outputs": [],
   "source": [
    "p= int(input(\"Enter a number: \"))\n",
    "for i in range(1,p+1):\n",
    "    print (\"* \"*i)"
   ]
  },
  {
   "cell_type": "code",
   "execution_count": 1,
   "id": "1e06de06",
   "metadata": {},
   "outputs": [
    {
     "data": {
      "text/plain": [
       "2"
      ]
     },
     "execution_count": 1,
     "metadata": {},
     "output_type": "execute_result"
    }
   ],
   "source": [
    "def my_diff(a,b,c):\n",
    "    return a-b\n",
    "my_diff(5,3,2)"
   ]
  },
  {
   "cell_type": "markdown",
   "id": "3caa5e7c",
   "metadata": {},
   "source": [
    "Write a program using lambda and reduce to find product of all numbers from the list"
   ]
  },
  {
   "cell_type": "code",
   "execution_count": null,
   "id": "52bcc465",
   "metadata": {},
   "outputs": [],
   "source": [
    "mylist = [3,5,7,3]\n",
    "from functools import reduce\n",
    "reduce(lambda x,y: x+y, mylist)"
   ]
  },
  {
   "cell_type": "code",
   "execution_count": null,
   "id": "a25c240c",
   "metadata": {},
   "outputs": [],
   "source": []
  },
  {
   "cell_type": "code",
   "execution_count": null,
   "id": "61b03592",
   "metadata": {},
   "outputs": [],
   "source": []
  }
 ],
 "metadata": {
  "kernelspec": {
   "display_name": "Python 3 (ipykernel)",
   "language": "python",
   "name": "python3"
  },
  "language_info": {
   "codemirror_mode": {
    "name": "ipython",
    "version": 3
   },
   "file_extension": ".py",
   "mimetype": "text/x-python",
   "name": "python",
   "nbconvert_exporter": "python",
   "pygments_lexer": "ipython3",
   "version": "3.11.4"
  }
 },
 "nbformat": 4,
 "nbformat_minor": 5
}
